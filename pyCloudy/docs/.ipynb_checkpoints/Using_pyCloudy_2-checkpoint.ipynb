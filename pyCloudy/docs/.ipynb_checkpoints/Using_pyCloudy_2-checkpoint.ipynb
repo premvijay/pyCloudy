{
 "cells": [
  {
   "cell_type": "code",
   "execution_count": 5,
   "metadata": {},
   "outputs": [],
   "source": [
    "%matplotlib inline\n",
    "import numpy as np\n",
    "import matplotlib.pyplot as plt\n",
    "import os\n",
    "home_dir = os.environ['HOME'] + '/'"
   ]
  },
  {
   "cell_type": "code",
   "execution_count": 6,
   "metadata": {
    "scrolled": true
   },
   "outputs": [
    {
     "name": "stdout",
     "output_type": "stream",
     "text": [
      "warng pyCloudy config: pyCloudy works better with PyNeb\n"
     ]
    }
   ],
   "source": [
    "import pyCloudy as pc"
   ]
  },
  {
   "cell_type": "code",
   "execution_count": 7,
   "metadata": {},
   "outputs": [],
   "source": [
    "# Changing the location and version of the cloudy executable.\n",
    "pc.config.cloudy_exe = home_dir + 'c17.01/source/cloudy.exe'"
   ]
  },
  {
   "cell_type": "code",
   "execution_count": 8,
   "metadata": {},
   "outputs": [],
   "source": [
    "# We define a function that will manage the input files of Cloudy. \n",
    "# This allow to easily change some parameters, very usefull to do a grid.\n",
    "def make_model(dir_, model_name, dens, ab_O):\n",
    "    full_model_name = '{0}_{1:.0f}_{2:.2f}'.format(model_name, dens, ab_O)\n",
    "    r_min = 5e16\n",
    "    dist = 1.26\n",
    "    Teff = 45000\n",
    "    qH = 47.\n",
    "    options = ('no molecules',\n",
    "                'no level2 lines',\n",
    "                'no fine opacities',\n",
    "                'atom h-like levels small',\n",
    "                'atom he-like levels small',\n",
    "                'COSMIC RAY BACKGROUND',\n",
    "                'element limit off -8',\n",
    "                )\n",
    "    emis_tab = ['H  1  4861.33A',\n",
    "            'H  1  6562.81A',\n",
    "            'Ca B  5875.64A',\n",
    "            'N  2  6583.45A',\n",
    "            'O  1  6300.30A',\n",
    "            'O  2  3726.03A',\n",
    "            'O  2  3728.81A',\n",
    "            'O  3  5006.84A',\n",
    "            'BLND  4363.00A',\n",
    "            'S  2  6716.44A',\n",
    "            'S  2  6730.82A',\n",
    "            'Cl 3  5517.71A',\n",
    "            'Cl 3  5537.87A',\n",
    "            'O  1  63.1679m',\n",
    "            'O  1  145.495m',\n",
    "            'C  2  157.636m']\n",
    "    abund = {'He' : -0.92, 'C' : -3.15, 'N' : -4.0, 'Ne' : -4.00, \n",
    "             'S' : -5.35, 'Ar' : -5.80, 'Fe' : -7.4, 'Cl' : -7.00}\n",
    "    abund['O'] = ab_O\n",
    "    # Defining the object that will manage the input file for Cloudy\n",
    "    c_input = pc.CloudyInput('{0}{1}'.format(dir_, full_model_name))\n",
    "    # Filling the object with the parameters\n",
    "    # Defining the ionizing SED: Effective temperature and luminosity.\n",
    "    # The lumi_unit is one of the Cloudy options, like \"luminosity solar\", \"q(H)\", \"ionization parameter\", etc... \n",
    "    c_input.set_BB(Teff = Teff, lumi_unit = 'q(h)', lumi_value = qH)\n",
    "    # Defining the density. You may also use set_dlaw(parameters) if you have a density law defined in dense_fabden.cpp.\n",
    "    c_input.set_cste_density(dens)\n",
    "    # Defining the inner radius. A second parameter would be the outer radius (matter-bounded nebula).\n",
    "    c_input.set_radius(np.log10(r_min))\n",
    "    c_input.set_abund(ab_dict = abund, nograins = True)\n",
    "    c_input.set_other(options)\n",
    "    c_input.set_iterate() # (0) for no iteration, () for one iteration, (N) for N iterations.\n",
    "    c_input.set_sphere() # () or (True) : sphere, or (False): open geometry.\n",
    "    c_input.set_emis_tab(emis_tab)\n",
    "    c_input.set_distance(dist, 'kpc')\n",
    "    c_input.print_input(to_file = True, verbose = False)\n"
   ]
  },
  {
   "cell_type": "code",
   "execution_count": 28,
   "metadata": {},
   "outputs": [],
   "source": [
    "# The directory in which we will have the model\n",
    "# You may want to change this to a different place so that the current directory\n",
    "# will not receive all the Cloudy files.\n",
    "dir_ = os.getcwd()+'/models/'\n",
    "if not os.path.exists(dir_):\n",
    "    os.mkdir(dir_)"
   ]
  },
  {
   "cell_type": "code",
   "execution_count": 10,
   "metadata": {},
   "outputs": [],
   "source": [
    "#writing the makefile in the directory dir_\n",
    "pc.print_make_file(dir_ = dir_)"
   ]
  },
  {
   "cell_type": "code",
   "execution_count": 11,
   "metadata": {},
   "outputs": [],
   "source": [
    "# setting verbosity to medium level, change to 3 for high verbosity\n",
    "pc.log_.level = 2"
   ]
  },
  {
   "cell_type": "code",
   "execution_count": 12,
   "metadata": {},
   "outputs": [],
   "source": [
    "# Generic name of the models\n",
    "model_name = 'model_2'"
   ]
  },
  {
   "cell_type": "code",
   "execution_count": 13,
   "metadata": {},
   "outputs": [],
   "source": [
    "# tables for the values of the density and the log(O/H)\n",
    "tab_dens = [3, 4, 5, 6]\n",
    "tab_ab_O = [-3.1, -3.25, -3.55, -3.7]"
   ]
  },
  {
   "cell_type": "code",
   "execution_count": 14,
   "metadata": {},
   "outputs": [],
   "source": [
    "# defining the models and writing 20 input files\n",
    "for dens in tab_dens:\n",
    "    for ab_O in tab_ab_O:\n",
    "        make_model(dir_, model_name, dens, ab_O)"
   ]
  },
  {
   "cell_type": "code",
   "execution_count": 21,
   "metadata": {},
   "outputs": [],
   "source": [
    "# Running the models using the makefile and n_proc processors\n",
    "n_proc = 16\n",
    "# Take, care, this will run 20 cloudy models on 3 processors! May take some time. \n",
    "# If you run all the models togeter (n_proc = 20), you will need 10 Go RAM.\n",
    "pc.run_cloudy(dir_ = dir_, n_proc = n_proc, model_name = model_name, use_make = True)"
   ]
  },
  {
   "cell_type": "code",
   "execution_count": 15,
   "metadata": {},
   "outputs": [],
   "source": [
    "# reading the Cloudy outputs and putting them in a list of CloudyModel objects\n",
    "Ms = pc.load_models('{0}{1}'.format(dir_, model_name), read_grains = False)"
   ]
  },
  {
   "cell_type": "code",
   "execution_count": 19,
   "metadata": {},
   "outputs": [],
   "source": [
    "#Computing line intensity ratios \n",
    "rO3 = [np.log10(M.get_emis_vol('O__3_500684A')/M.get_emis_vol('BLND_436300A')) for M in Ms]\n",
    "rO2 = [np.log10(M.get_emis_vol('O__2_372603A')/M.get_emis_vol('O__2_372881A')) for M in Ms]"
   ]
  },
  {
   "cell_type": "code",
   "execution_count": 20,
   "metadata": {},
   "outputs": [],
   "source": [
    "# defining the colors associated to the Oxygen abundances\n",
    "col = [M.abund['O'] for M in Ms]"
   ]
  },
  {
   "cell_type": "code",
   "execution_count": 21,
   "metadata": {},
   "outputs": [],
   "source": [
    "# defining the size as the density (at the first step, but in these models it's constant)\n",
    "#size = [np.log10(M.nH[0])*20 for M in Ms]\n",
    "size = [40*(5+M.log_U_mean) for M in Ms]"
   ]
  },
  {
   "cell_type": "code",
   "execution_count": 22,
   "metadata": {},
   "outputs": [
    {
     "data": {
      "text/plain": [
       "Text(0.5, 1.0, 'Size -> logU')"
      ]
     },
     "execution_count": 22,
     "metadata": {},
     "output_type": "execute_result"
    },
    {
     "data": {
      "image/png": "[encoded data removed]",
      "text/plain": [
       "<Figure size 720x720 with 2 Axes>"
      ]
     },
     "metadata": {
      "needs_background": "light"
     },
     "output_type": "display_data"
    }
   ],
   "source": [
    "plt.figure(figsize=(10,10))\n",
    "plt.scatter(rO2, rO3, c=col, s=size, edgecolors = 'none')\n",
    "plt.xlabel('log [OII] 3726/3729')\n",
    "plt.ylabel('log [OIII] 5007/4363')\n",
    "cb = plt.colorbar()\n",
    "cb.set_label('log(O/H)')\n",
    "plt.title('Size -> logU')"
   ]
  },
  {
   "cell_type": "code",
   "execution_count": 26,
   "metadata": {},
   "outputs": [
    {
     "data": {
      "text/plain": [
       "['C3D_comments',\n",
       " 'H0_mass',\n",
       " 'H_mass',\n",
       " 'H_mass_cut',\n",
       " 'H_mass_full',\n",
       " 'Hbeta',\n",
       " 'Hbeta_cut',\n",
       " 'Hbeta_full',\n",
       " 'Hp_mass',\n",
       " 'Phi',\n",
       " 'Phi0',\n",
       " 'Q',\n",
       " 'Q0',\n",
       " 'T0',\n",
       " 'Teff',\n",
       " '_CloudyModel__H_mass_cut',\n",
       " '_CloudyModel__r_in_cut',\n",
       " '_CloudyModel__r_out_cut',\n",
       " '_CloudyModel__r_range',\n",
       " '__class__',\n",
       " '__delattr__',\n",
       " '__dict__',\n",
       " '__dir__',\n",
       " '__doc__',\n",
       " '__eq__',\n",
       " '__format__',\n",
       " '__ge__',\n",
       " '__getattribute__',\n",
       " '__gt__',\n",
       " '__hash__',\n",
       " '__init__',\n",
       " '__init_subclass__',\n",
       " '__le__',\n",
       " '__lt__',\n",
       " '__module__',\n",
       " '__ne__',\n",
       " '__new__',\n",
       " '__reduce__',\n",
       " '__reduce_ex__',\n",
       " '__repr__',\n",
       " '__setattr__',\n",
       " '__sizeof__',\n",
       " '__str__',\n",
       " '__subclasshook__',\n",
       " '__weakref__',\n",
       " '_get_H_mass_cut',\n",
       " '_get_Hbeta_cut',\n",
       " '_get_over_range',\n",
       " '_get_r_in_cut',\n",
       " '_get_r_out_cut',\n",
       " '_i_emis',\n",
       " '_i_line',\n",
       " '_init_all2zero',\n",
       " '_init_cont',\n",
       " '_init_emis',\n",
       " '_init_grains',\n",
       " '_init_heatcool',\n",
       " '_init_ionic',\n",
       " '_init_lin',\n",
       " '_init_opd',\n",
       " '_init_phy',\n",
       " '_init_rad',\n",
       " '_l_emis',\n",
       " '_quiet_div',\n",
       " '_r_out_cut_doc',\n",
       " '_read_stout',\n",
       " '_res',\n",
       " '_set_H_mass_cut',\n",
       " '_set_Hbeta_cut',\n",
       " '_set_r_in_cut',\n",
       " '_set_r_out_cut',\n",
       " 'aborted',\n",
       " 'abund',\n",
       " 'add_emis_from_pyneb',\n",
       " 'calling',\n",
       " 'cautions',\n",
       " 'cloudy_version',\n",
       " 'cloudy_version_major',\n",
       " 'comments',\n",
       " 'cool',\n",
       " 'cool_full',\n",
       " 'date_model',\n",
       " 'depth',\n",
       " 'depth_full',\n",
       " 'distance',\n",
       " 'dr',\n",
       " 'dr_full',\n",
       " 'drff',\n",
       " 'dv',\n",
       " 'dv_full',\n",
       " 'dvff',\n",
       " 'emis_from_pyneb',\n",
       " 'emis_full',\n",
       " 'emis_is_log',\n",
       " 'emis_labels',\n",
       " 'emis_labels_13',\n",
       " 'emis_labels_17',\n",
       " 'empty_model',\n",
       " 'ff',\n",
       " 'ff_full',\n",
       " 'gabund',\n",
       " 'gabund_full',\n",
       " 'gabund_labels',\n",
       " 'gas_mass_per_H',\n",
       " 'gasize',\n",
       " 'gdgrat',\n",
       " 'gdgrat_full',\n",
       " 'gdgrat_labels',\n",
       " 'gdsize',\n",
       " 'get_EW',\n",
       " 'get_EW2',\n",
       " 'get_G0',\n",
       " 'get_Ha_EW',\n",
       " 'get_Hb_EW',\n",
       " 'get_Hb_SB',\n",
       " 'get_T0_emis',\n",
       " 'get_T0_emis_rad',\n",
       " 'get_T0_ion_rad',\n",
       " 'get_T0_ion_rad_ne',\n",
       " 'get_T0_ion_vol',\n",
       " 'get_T0_ion_vol_ne',\n",
       " 'get_ab_ion_rad',\n",
       " 'get_ab_ion_rad_ne',\n",
       " 'get_ab_ion_vol',\n",
       " 'get_ab_ion_vol_ne',\n",
       " 'get_cont_x',\n",
       " 'get_cont_y',\n",
       " 'get_emis',\n",
       " 'get_emis_rad',\n",
       " 'get_emis_vol',\n",
       " 'get_integ_spec',\n",
       " 'get_ionic',\n",
       " 'get_line',\n",
       " 'get_ne_emis',\n",
       " 'get_ne_ion_rad_ne',\n",
       " 'get_ne_ion_vol_ne',\n",
       " 'get_t2_emis',\n",
       " 'get_t2_ion_rad_ne',\n",
       " 'get_t2_ion_vol_ne',\n",
       " 'gmass',\n",
       " 'gsize',\n",
       " 'gtemp',\n",
       " 'gtemp_full',\n",
       " 'gtemp_labels',\n",
       " 'heat',\n",
       " 'heat_full',\n",
       " 'info',\n",
       " 'intens',\n",
       " 'ionic_full',\n",
       " 'ionic_names',\n",
       " 'is_valid_ion',\n",
       " 'line_is_log',\n",
       " 'lines',\n",
       " 'liste_elem',\n",
       " 'log_',\n",
       " 'log_U',\n",
       " 'log_U_mean',\n",
       " 'log_U_mean_ne',\n",
       " 'model_name',\n",
       " 'model_name_s',\n",
       " 'nH',\n",
       " 'nH_full',\n",
       " 'nH_mean',\n",
       " 'nHff_full',\n",
       " 'n_elements',\n",
       " 'n_emis',\n",
       " 'n_gabund',\n",
       " 'n_gdgrat',\n",
       " 'n_gtemp',\n",
       " 'n_ions',\n",
       " 'n_lines',\n",
       " 'n_zones',\n",
       " 'n_zones_full',\n",
       " 'ne',\n",
       " 'ne_full',\n",
       " 'nenH',\n",
       " 'nenH_full',\n",
       " 'nenHff2_full',\n",
       " 'opd_absorp',\n",
       " 'opd_energy',\n",
       " 'opd_scat',\n",
       " 'opd_total',\n",
       " 'out',\n",
       " 'out_exists',\n",
       " 'phi',\n",
       " 'plan_par',\n",
       " 'plot_spectrum',\n",
       " 'print_lines',\n",
       " 'print_stats',\n",
       " 'r_in',\n",
       " 'r_in_cut',\n",
       " 'r_out',\n",
       " 'r_out_cut',\n",
       " 'r_range',\n",
       " 'rad_integ',\n",
       " 'rad_mean',\n",
       " 'radius',\n",
       " 'radius_full',\n",
       " 'read_outputs',\n",
       " 'rlines',\n",
       " 'slines',\n",
       " 't2',\n",
       " 'te',\n",
       " 'te_full',\n",
       " 'tenenH',\n",
       " 'tenenH_full',\n",
       " 'theta',\n",
       " 'thickness',\n",
       " 'thickness_full',\n",
       " 'vol_integ',\n",
       " 'vol_mean',\n",
       " 'warnings',\n",
       " 'zones',\n",
       " 'zones_full']"
      ]
     },
     "execution_count": 26,
     "metadata": {},
     "output_type": "execute_result"
    }
   ],
   "source": [
    "dir(Ms[0])"
   ]
  },
  {
   "cell_type": "code",
   "execution_count": 29,
   "metadata": {},
   "outputs": [],
   "source": [
    "mdict = vars(Ms[0])"
   ]
  },
  {
   "cell_type": "code",
   "execution_count": 2,
   "metadata": {},
   "outputs": [],
   "source": [
    "ele_he = np.genfromtxt('models/model_2_3_-3.10.ele_He')"
   ]
  },
  {
   "cell_type": "code",
   "execution_count": 14,
   "metadata": {},
   "outputs": [
    {
     "data": {
      "text/plain": [
       "(2e+17, 4e+17)"
      ]
     },
     "execution_count": 14,
     "metadata": {},
     "output_type": "execute_result"
    },
    {
     "data": {
      "image/png": "[encoded data removed]",
      "text/plain": [
       "<Figure size 432x288 with 1 Axes>"
      ]
     },
     "metadata": {
      "needs_background": "light"
     },
     "output_type": "display_data"
    }
   ],
   "source": [
    "plt.plot(ele_he[:,0],ele_he[:,1:3])\n",
    "# plt.xscale('log')\n",
    "plt.xlim(2e17,4e17)"
   ]
  },
  {
   "cell_type": "code",
   "execution_count": null,
   "metadata": {},
   "outputs": [],
   "source": []
  }
 ],
 "metadata": {
  "kernelspec": {
   "display_name": "Python 3",
   "language": "python",
   "name": "python3"
  },
  "language_info": {
   "codemirror_mode": {
    "name": "ipython",
    "version": 3
   },
   "file_extension": ".py",
   "mimetype": "text/x-python",
   "name": "python",
   "nbconvert_exporter": "python",
   "pygments_lexer": "ipython3",
   "version": "3.7.6"
  },
  "varInspector": {
   "cols": {
    "lenName": 16,
    "lenType": 16,
    "lenVar": 40
   },
   "kernels_config": {
    "python": {
     "delete_cmd_postfix": "",
     "delete_cmd_prefix": "del ",
     "library": "var_list.py",
     "varRefreshCmd": "print(var_dic_list())"
    },
    "r": {
     "delete_cmd_postfix": ") ",
     "delete_cmd_prefix": "rm(",
     "library": "var_list.r",
     "varRefreshCmd": "cat(var_dic_list()) "
    }
   },
   "types_to_exclude": [
    "module",
    "function",
    "builtin_function_or_method",
    "instance",
    "_Feature"
   ],
   "window_display": false
  }
 },
 "nbformat": 4,
 "nbformat_minor": 2
}
